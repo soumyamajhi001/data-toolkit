{
  "nbformat": 4,
  "nbformat_minor": 0,
  "metadata": {
    "colab": {
      "provenance": []
    },
    "kernelspec": {
      "name": "python3",
      "display_name": "Python 3"
    },
    "language_info": {
      "name": "python"
    }
  },
  "cells": [
    {
      "cell_type": "markdown",
      "source": [
        "# Theory Questions"
      ],
      "metadata": {
        "id": "71f8IIM4PCux"
      }
    },
    {
      "cell_type": "code",
      "execution_count": null,
      "metadata": {
        "id": "y_7s3A1vO8jP"
      },
      "outputs": [],
      "source": [
        "# Q1 What is NumPy, and why is it widely used in Python?\n",
        "\n",
        "# solution:-\n",
        "\n",
        "'''\n",
        "Numpy is a powerful library for numerical computations in python.\n",
        "It provides supportsfor multi-dimensional arrys and matrices along with a vast collection of mathematical functions to operate on them efficently.\n",
        "\n",
        "features of NumPy:-\n",
        "1.N-dimensional array\n",
        "2.Mathematical operations\n",
        "3.Efficient\n",
        "\n",
        "now why the numpy is widley used:-\n",
        "\n",
        "1. performance : numpy arrays are faster than python lists because they are stored in contiguos memory locations and dont support the hetrogenoud data types,\n",
        "2. Ease of use : its syntax is simple and intutive allowing complex operations with minimal code.\n",
        "3. Compatibility : many other Python libraries, like pandas, sciPy, and matplotlib, are built on numPy, making it a core library in python scientific ecosystem.\n",
        "4. Open Source : numPy is free, open source, and works on different operating systems.\n",
        "'''"
      ]
    },
    {
      "cell_type": "code",
      "source": [
        "# Q2 How does broadcasting work in NumPy ?\n",
        "\n",
        "# solution:-\n",
        "'''\n",
        "steps of broadcasting in the numpy:-\n",
        "\n",
        "1. comparing the dimensions or shape of the array : numpy compares the shapes of the arrays element wise starting fromthe traling dimensions,\n",
        "\n",
        "2. Rules for compatibility : the array must be of the equal dimenssions or one of them is dimenssion 1.\n",
        "\n",
        "3. Stretching: if a dimension is 1, numPy stretches the array along that dimension to match the other array.\n",
        "\n",
        "4. end array or result array shape : resulting array shape is the maximum size along each dimension.\n",
        "\n",
        "'''\n",
        "\n",
        "## example of the braodcasting\n",
        "\n",
        "import numpy as np\n",
        "\n",
        "arr = np.array([1, 2, 3])\n",
        "result = arr + 5\n",
        "print(result)\n"
      ],
      "metadata": {
        "id": "1sggasayQck7",
        "colab": {
          "base_uri": "https://localhost:8080/"
        },
        "outputId": "4d193a5a-cb9a-4614-8fb6-42a3c69863da"
      },
      "execution_count": 2,
      "outputs": [
        {
          "output_type": "stream",
          "name": "stdout",
          "text": [
            "[6 7 8]\n"
          ]
        }
      ]
    },
    {
      "cell_type": "code",
      "source": [
        "# Q3 What is a Pandas DataFrame?\n",
        "\n",
        "# solution:\n",
        "\n",
        "'''\n",
        "A pandas dataframe is a 2-dimensional, tabular data structure in python similar to the sql table .\n",
        "it is one of the core data structure provided by the pandas library it is widely used for the data manipulation.\n",
        "\n",
        "key features of the dataframe:-\n",
        "\n",
        "1. contains Rows and columns\n",
        "2. labeled axes\n",
        "3. flexible indexing\n",
        "4. hetrogeneous data\n",
        "\n",
        "'''\n",
        "## example:\n",
        "import pandas as pd\n",
        "\n",
        "data = {\n",
        "    'Name': ['lokendra', 'ravi', 'ashish'],\n",
        "    'Age': [25, 30, 35],\n",
        "    'City': ['uttarakhand', 'rajasthan', 'delhi']\n",
        "}\n",
        "df = pd.DataFrame(data)\n",
        "print(df)\n"
      ],
      "metadata": {
        "id": "KiLEOslwQ1ZS",
        "colab": {
          "base_uri": "https://localhost:8080/"
        },
        "outputId": "d96afe57-ef56-4909-e898-4f858a19c597"
      },
      "execution_count": 3,
      "outputs": [
        {
          "output_type": "stream",
          "name": "stdout",
          "text": [
            "       Name  Age         City\n",
            "0  lokendra   25  uttarakhand\n",
            "1      ravi   30    rajasthan\n",
            "2    ashish   35        delhi\n"
          ]
        }
      ]
    },
    {
      "cell_type": "code",
      "source": [
        "# Q4 A Explain the use of the groupby() method in Pandas?\n",
        "\n",
        "# solution:\n",
        "\n",
        "'''\n",
        "The groupby() method in Pandas is used for grouping data and performing aggregate or transformation operations on those groups.\n",
        "It is particularly useful for analyzing and summarizing datasets by dividing them into groups based on one or more columns.\n",
        "\n",
        "working of groupby():-\n",
        "\n",
        "1. Splitting: dividing the dataset into groups based on the creteria (e.g., unique values in a column).\n",
        "\n",
        "2. Applying: applying a function like mean,count,sum to each group.\n",
        "\n",
        "3. Combining: combining the results into a new dataFrame or series.\n",
        "'''\n",
        "\n",
        "## example :\n",
        "import pandas as pd\n",
        "data = {\n",
        "    'department': ['IT', 'IT', 'IT', 'HR', 'sales', 'IT'],\n",
        "    'employee': ['ravi', 'lokendra', 'ashish', 'krishna', 'vijay', 'himashu'],\n",
        "    'salary': [50000, 60000, 45000, 48000, 70000, 72000]\n",
        "}\n",
        "\n",
        "df = pd.DataFrame(data)\n",
        "group = df.groupby(by='department')['salary'].sum()\n",
        "print(group)\n"
      ],
      "metadata": {
        "colab": {
          "base_uri": "https://localhost:8080/"
        },
        "id": "cEL_tx_pUBvF",
        "outputId": "ca1cf45d-3eea-4b17-afc3-264372e11a75"
      },
      "execution_count": 5,
      "outputs": [
        {
          "output_type": "stream",
          "name": "stdout",
          "text": [
            "department\n",
            "HR        48000\n",
            "IT       227000\n",
            "sales     70000\n",
            "Name: salary, dtype: int64\n"
          ]
        }
      ]
    },
    {
      "cell_type": "code",
      "source": [
        "# Q5 Why is Seaborn preferred for statistical visualizations?\n",
        "\n",
        "# solution:-\n",
        "'''\n",
        "here is the reason why seaborn preferred for statistical visualizations:-\n",
        "\n",
        "1. simplified syntax : seaborn's API is designed to be intuitive and concise, allowing you to create complex visualizations with minimal code.\n",
        "\n",
        "2. built-in support for statistical functions : seaborn integrates statistical functionalities directly into its visualizations, such as linear regression lines, and categorical aggregations.\n",
        "\n",
        "3. easy handling of dataFrames : seaborn is designed to work seamlessly with Pandas DataFrames, allowing you to specify column names directly\n",
        "\n",
        "4. advanced categorical plots : provides specilalized plots like stripplot(),boxplot(),violinplot(),catplot().\n",
        "\n",
        "5. support for multi-plot grids :seaborn makes it easy to create complex visualizations by combining multiple plots into a single figure using functions like FacetGrid, pairplot(), or heatmap().\n",
        "'''"
      ],
      "metadata": {
        "id": "xoOHBHANUGg7"
      },
      "execution_count": null,
      "outputs": []
    },
    {
      "cell_type": "code",
      "source": [
        "# Q6 What are the differences between NumPy arrays and Python lists?\n",
        "\n",
        "# solution:\n",
        "'''\n",
        "lists:-\n",
        "\n",
        "datatype: hetrogeneous can store elements of different type.\n",
        "performance/speed : slower because of Python's dynamic typing and hetrogeneous elements.\n",
        "Size : can grow or shrink as needed(dynamic size nature).\n",
        "mathematical operation : requires loops or list comprehensions for element-wise operations.\n",
        "\n",
        "Numpy arrays :-\n",
        "\n",
        "datatype: homogeneous all  stored elements are of same type.\n",
        "performance/speed : faster because of Python's contiguous memory storage and homogeneous elements.\n",
        "Size : can't grow or shrink as needed(fixed size nature).\n",
        "mathematical operation : supports element-wise operations directly.\n",
        "\n",
        "'''"
      ],
      "metadata": {
        "id": "5AYsHHDLUIzu"
      },
      "execution_count": null,
      "outputs": []
    },
    {
      "cell_type": "code",
      "source": [
        "# Q7 What is a heatmap, and when should it be used?\n",
        "\n",
        "# solution:-\n",
        "'''\n",
        "A heatmap is a data visualization technique that represents data in a tabular format with color-coding to indicate the magnitude or intensity of values in each cell.\n",
        "\n",
        "when we should use heatmap:-\n",
        "\n",
        "1. correlation analysis: we use a heatmap to visualize the correlation matrix of numerical variables.\n",
        "\n",
        "2. trend identification: identify patterns or trends in large datasets.\n",
        "\n",
        "3. data density representation: show the distribution or density of data points in a grid.\n",
        "\n",
        "4. anomaly detection : highlight areas with outliers or deviations from expected patterns.\n",
        "\n",
        "5. hierarchical clustering: combine heatmaps with dendrograms for hierarchical clustering.\n",
        "\n",
        "'''"
      ],
      "metadata": {
        "id": "wvLrYFeaUMWC"
      },
      "execution_count": null,
      "outputs": []
    },
    {
      "cell_type": "code",
      "source": [
        "# Q8 What does the term “vectorized operation” mean in NumPy ?\n",
        "'''\n",
        "\n",
        "defination:-\n",
        "In NumPy, a vectorized operation refers to performing operations on entire arrays like ( vectors matrices etc.) without the need for explicit loops.\n",
        "\n",
        "why vectorized operation :-\n",
        "\n",
        "1.Speed : vectorized code runs much faster than equivalent Python loops, especially for large arrays.\n",
        "\n",
        "2.Readability : Vectorized code is small and easier to understand.\n",
        "\n",
        "'''\n",
        "## example\n",
        "import numpy as np\n",
        "\n",
        "a = np.array([1, 2, 3])\n",
        "b = np.array([4, 5, 6])\n",
        "\n",
        "\n",
        "result = a + b # vectorized addition\n",
        "print(result)\n",
        "\n",
        "## example 2\n",
        "result = a > 2\n",
        "print(result)\n"
      ],
      "metadata": {
        "colab": {
          "base_uri": "https://localhost:8080/"
        },
        "id": "S3KPo9HUUQui",
        "outputId": "b5f389f1-2b52-43e5-b1c1-d60301d25b6b"
      },
      "execution_count": 7,
      "outputs": [
        {
          "output_type": "stream",
          "name": "stdout",
          "text": [
            "[5 7 9]\n",
            "[False False  True]\n"
          ]
        }
      ]
    },
    {
      "cell_type": "code",
      "source": [
        "# Q9 How does Matplotlib differ from Plotly?\n",
        "\n",
        "# solution :-\n",
        "'''\n",
        "matplotlib :-\n",
        "\n",
        "1. interactivity : Basic interactivity (zooming).\n",
        "2. ease of Use : more code, steeper learning curve\n",
        "3. plot Types : 2D plots,basic 3D\n",
        "4. web Integration : limited integration with web apps\n",
        "5. performance : faster for simple static plots\n",
        "6. output Formats : static images (PNG, PDF, SVG)\n",
        "\n",
        "plotly :-\n",
        "\n",
        "1. interactivity : high level interactivity (zooming,hover,click).\n",
        "2. ease of Use : minimal code required and easy for beginners\n",
        "3. plot Types : 2D and 3D interactiove plots\n",
        "4. web Integration : excellent integration with web apps\n",
        "5. performance : can be slower for large dataset\n",
        "6. output Formats : interactive plots (HTML), static images\n",
        "\n",
        "'''"
      ],
      "metadata": {
        "id": "ajQvwjS-UTfE"
      },
      "execution_count": null,
      "outputs": []
    },
    {
      "cell_type": "code",
      "source": [
        "# Q10 What is the significance of hierarchical indexing in Pandas?\n",
        "\n",
        "# solution :\n",
        "'''\n",
        "hierarchical indexing (also known as multiIndex) in pandas allows for multiple levels of indexing in a dataFrame or series,\n",
        "providing a powerful way to work with multi-dimensional data in a 2D structure (i.e., rows and columns)\n",
        "\n",
        "importance or significance of the hierarchical indexing :-\n",
        "\n",
        "1. organizing complex data: the hierarchical indexing handels multi dimensional data (scales by region and year) allowing for eaiser analysis at different levels.\n",
        "\n",
        "2. enhanced data manipulation: simplifies filtering, slicing, and accessing data at multiple levels.\n",
        "\n",
        "3. efficient grouping and aggregation: makes it easy to group and aggregate data by multiple levels.\n",
        "\n",
        "4. flexible data access: Enables slicing and indexing by one or more levels using .loc[] or .xs()\n",
        "\n",
        "5. handling missing data: facilitates handling missing values across different levels of data.\n",
        "\n",
        "'''"
      ],
      "metadata": {
        "id": "jjz0CZSQUVm8"
      },
      "execution_count": null,
      "outputs": []
    },
    {
      "cell_type": "code",
      "source": [
        "# Q11 What is the role of Seaborn’s pairplot() function?\n",
        "\n",
        "# solution :-\n",
        "'''\n",
        "defination :-\n",
        "\n",
        "the pairplot() function in Seaborn is used to create a matrix of scatter plots for visualizing pairwise relationships between multiple numerical variables in a dataset.\n",
        "it provides eay and interative way to explore the correlations and interactions between different variables.\n",
        "\n",
        "Roles of the pairplot() :-\n",
        "\n",
        "1. pairwise scatter plots : It plots scatter plots for each pair of variables in a dataset.\n",
        "\n",
        "2. diagonal plots :  typically shows histograms helping to visualize their distribution.\n",
        "\n",
        "3. customizable : it allows customization of colors, hue (categorical variable), markers, and plot types to better understand the data.\n",
        "\n",
        "'''\n",
        "\n"
      ],
      "metadata": {
        "id": "QMFG85bNUYBC"
      },
      "execution_count": null,
      "outputs": []
    },
    {
      "cell_type": "code",
      "source": [
        "# Q12 What is the purpose of the describe() function in Pandas?\n",
        "\n",
        "# solution :-\n",
        "'''\n",
        "defination :-\n",
        "\n",
        "The describe() function in Pandas provides a summary of statistics for numerical columns in a dataFrame or series.\n",
        "\n",
        "purpose of the describe() :-\n",
        " It calculates and returns key statistical measures such as:\n",
        "    count: Number of non-null values\n",
        "    mean: The average of the values\n",
        "    standard deviation (std): Measure of the spread of values\n",
        "    min: The minimum value\n",
        "'''\n",
        "\n",
        "## example\n",
        "import pandas as pd\n",
        "data = {'age': [23, 25, 27, 29, 31],\n",
        "        'salary': [50000, 55000, 60000, 65000, 70000]}\n",
        "\n",
        "df = pd.DataFrame(data)\n",
        "summary = df.describe()\n",
        "print(summary)\n"
      ],
      "metadata": {
        "colab": {
          "base_uri": "https://localhost:8080/"
        },
        "id": "p-FCF6LbUj0r",
        "outputId": "42faefad-a1da-43d1-9200-f6207cd6194a"
      },
      "execution_count": 8,
      "outputs": [
        {
          "output_type": "stream",
          "name": "stdout",
          "text": [
            "             age       salary\n",
            "count   5.000000      5.00000\n",
            "mean   27.000000  60000.00000\n",
            "std     3.162278   7905.69415\n",
            "min    23.000000  50000.00000\n",
            "25%    25.000000  55000.00000\n",
            "50%    27.000000  60000.00000\n",
            "75%    29.000000  65000.00000\n",
            "max    31.000000  70000.00000\n"
          ]
        }
      ]
    },
    {
      "cell_type": "code",
      "source": [
        "# Q13  Why is handling missing data important in Pandas ?\n",
        "\n",
        "# solution :-\n",
        "'''\n",
        "importance of handling the missing data in the pandas :-\n",
        "\n",
        "1. improves data quality :\n",
        "                          missing data can skew or mislead analysis, leading to inaccurate conclusions,\n",
        "                          by handling the missign data in the pandas can help in maintaning the quality of the data and getting the accurate results\n",
        "\n",
        "2. prevents errors in calculations : handling the missing data in the pandas can also help in getting the accurate results by preventing the errors in the calculation.\n",
        "\n",
        "\n",
        "3. enhances data analysis : properly addressing missing data enables more meaningful statistical analysis and consider that all available data must be used .\n",
        "\n",
        "\n",
        "4. data cleaning : by handling the missing data in the pandas it will aslo helps in cleaning the data set as the error in the data set are resuced.\n",
        "\n",
        "5. improves ML Models:  if the data must be cleaned and all the missing values in the dataset are maintained or handeled properly than the machine which is trainned on that dataset perfprms better.\n",
        "\n",
        "'''"
      ],
      "metadata": {
        "id": "TMmUZMWAUoBq"
      },
      "execution_count": null,
      "outputs": []
    },
    {
      "cell_type": "code",
      "source": [
        "# Q14 What are the benefits of using Plotly for data visualization?\n",
        "\n",
        "# solution :-\n",
        "'''\n",
        "defination :-\n",
        "\n",
        "Plotly is a powerful and interactive data visualization library in Python, widely used for creating dynamic and visually appealing plots\n",
        "\n",
        "benefits of plotly :-\n",
        "\n",
        "1. interactivity : high level interactivity (zooming,hover,click).\n",
        "\n",
        "2. ease of Use : minimal code required and easy for beginners.\n",
        "\n",
        "3. plot Types : 2D and 3D interactiove plots.\n",
        "\n",
        "4. web Integration : excellent integration with web apps.\n",
        "\n",
        "5. performance : can be slower for large dataset.\n",
        "\n",
        "6. output Formats : interactive plots (HTML), static images.\n",
        "\n",
        "'''"
      ],
      "metadata": {
        "id": "ZjM2JudBUs6y"
      },
      "execution_count": null,
      "outputs": []
    },
    {
      "cell_type": "code",
      "source": [
        "# Q15 How does NumPy handle multidimensional arrays?\n",
        "\n",
        "# solution :-\n",
        "'''\n",
        "numpy provides powerful tools for handling the multidimensional arrays allowing the users to efficently store and manipulate data in more than one dimension.\n",
        "\n",
        "how numpy handels the multidimensional arrays :-\n",
        "\n",
        "1. ndarray :- numpy introduces the ndarray object, which is a flexible, efficient array that can hold data in multiple dimensions (1D, 2D, 3D, etc.).\n",
        "\n",
        "2. creating multidimensional arrays :- You can create multidimensional arrays in NumPy using np.array() or by using functions like np.zeros(), np.ones(), and np.arange().\n",
        "\n",
        "3. shape and indexing :- You can check the shape of an array using the .shape attribute.\n",
        "\n",
        "4. multidimensional operations :- such as element-wise addition, multiplication, and matrix operations like dot product for 2D arrays.\n",
        "'''"
      ],
      "metadata": {
        "id": "4tj1djaRUwXS"
      },
      "execution_count": null,
      "outputs": []
    },
    {
      "cell_type": "code",
      "source": [
        "# Q16  What is the role of Bokeh in data visualization?\n",
        "\n",
        "# solution :-\n",
        "'''\n",
        "roles of bokeh :-\n",
        "\n",
        "1. interactive visualizations : bokeh is designed to create interactive plots. It allows users to zoom, hover, and click on various data points.\n",
        "\n",
        "2. web integration : bokeh visualizations are web-ready and are designed to be easily embedded into web applications, dashboards, and websites.\n",
        "\n",
        "3. real-time data streaming : One of the standout features of Bokeh is its ability to handle real-time data streams,making it useful for applications that need to display continuously updating data\n",
        "\n",
        "4. integration with Other libraries: This makes it easy to generate dynamic plots directly from data stored in Pandas DataFrames or NumPy arrays.\n",
        "\n",
        "'''\n",
        "from bokeh.plotting import figure, show\n",
        "from bokeh.models import ColumnDataSource\n",
        "\n",
        "x = [1, 2, 3, 4, 5]\n",
        "y = [6, 7, 2, 4, 5]\n",
        "plot = figure(title=\"Simple Bokeh Plot\", x_axis_label=\"X\", y_axis_label=\"Y\")\n",
        "plot.line(x, y, legend_label=\"Line\", line_width=2)\n",
        "show(plot)\n"
      ],
      "metadata": {
        "id": "mdKTqXNZUzUi"
      },
      "execution_count": 10,
      "outputs": []
    },
    {
      "cell_type": "code",
      "source": [
        "# Q17  Explain the difference between apply() and map() in Pandas ?\n",
        "\n",
        "# solution :-\n",
        "'''\n",
        "apply():-\n",
        "\n",
        "1. scope :-\tcan be used on both Series and DataFrames\n",
        "2. flexibility :-\tmore flexible (works on rows, columns, and elements)\n",
        "3. return :- type\tCan return a scalar, Series, or DataFrame\n",
        "4. usage :-\tideal for more complex functions and operations\n",
        "5. common Use Case :-\tcomplex calculations across rows/columns\n",
        "\n",
        "map():-\n",
        "\n",
        "1. scope :- only works on Series\n",
        "2. flexibility :- mostly used for element-wise transformations\n",
        "3. return :- returns a new series\n",
        "4. usage :- best for element-wise transformations or mappings\n",
        "5. common Use Case :- mapping or transforming values in a Series\n",
        "\n",
        "'''"
      ],
      "metadata": {
        "id": "iO03g2jBU4ia"
      },
      "execution_count": null,
      "outputs": []
    },
    {
      "cell_type": "code",
      "source": [
        "# Q18 What are some advanced features of NumPy?\n",
        "\n",
        "# solution :-\n",
        "'''\n",
        "some advanced features of NumPy are :-\n",
        "\n",
        "1. broadcasting : broadcasting is a powerful feature that allows NumPy to perform element-wise operations on arrays of different shapes\n",
        "\n",
        "2. Vectorization : vectorization refers to the ability to apply operations on entire arrays without the need for explicit loops\n",
        "\n",
        "3. advance indexing : advance/fancy indexing (or advanced indexing) allows you to index arrays with other arrays, lists, or boolean arrays\n",
        "\n",
        "\n",
        "'''\n",
        "## example of broadcasting\n",
        "import numpy as np\n",
        "arr1 = np.array([1, 2, 3])\n",
        "arr2 = np.array([[1], [2], [3]])\n",
        "result = arr1 + arr2\n",
        "print(f'{result} \\n')\n",
        "\n",
        "## example of vectorization\n",
        "\n",
        "arr = np.array([1, 2, 3, 4])\n",
        "result = arr * 2\n",
        "print(f'{result} \\n')\n",
        "\n",
        "## example of advance indexing\n",
        "\n",
        "arr = np.array([0, 1, 2, 3, 4])\n",
        "indi = np.array([1, 3, 4])\n",
        "result = arr[indi]\n",
        "print(result)"
      ],
      "metadata": {
        "colab": {
          "base_uri": "https://localhost:8080/"
        },
        "id": "1YJ6fdRMU7rK",
        "outputId": "c78dced0-67dd-43b7-d07e-8dfeb7f21122"
      },
      "execution_count": 11,
      "outputs": [
        {
          "output_type": "stream",
          "name": "stdout",
          "text": [
            "[[2 3 4]\n",
            " [3 4 5]\n",
            " [4 5 6]] \n",
            "\n",
            "[2 4 6 8] \n",
            "\n",
            "[1 3 4]\n"
          ]
        }
      ]
    },
    {
      "cell_type": "code",
      "source": [
        "# Q19  How does Pandas simplify time series analysis?\n",
        "\n",
        "# solution :-\n",
        "'''\n",
        "pandas simplifies time series analysis:\n",
        "\n",
        "1. datetime index: allows easy time-based indexing and manipulation.\n",
        "\n",
        "2. time zone handling: convert and localize time zones with tz_localize() and tz_convert().\n",
        "\n",
        "3. missing data handling: fill or interpolate missing values with fillna() and interpolate().\n",
        "\n",
        "4. plotting: direct integration with Matplotlib for visualizing time series data.\n",
        "\n",
        "5. shifting: create lag features with shift() for time series forecasting.\n",
        "\n",
        "\n",
        "'''"
      ],
      "metadata": {
        "id": "E0D3rFvrVAUR"
      },
      "execution_count": null,
      "outputs": []
    },
    {
      "cell_type": "code",
      "source": [
        "# Q20 What is the role of a pivot table in Pandas?\n",
        "\n",
        "# solution :-\n",
        "'''\n",
        "key roles of pivot table in pandas :-\n",
        "\n",
        "1. data aggregation: summarizes data by calculating aggregate functions (like sum, mean, count) for different groups.\n",
        "\n",
        "2. grouping data :- allows  to group the data based on one dolumn or a row making it easier to compare different categories.\n",
        "\n",
        "3. multi level indexing :- we can create pivot tables with multiple rows and column indexes for more comlex summarization.\n",
        "\n",
        "4. reshaping the data :- the table struture makes the long form data into a more readable formate.\n",
        "\n",
        "'''\n",
        "\n",
        "## example\n",
        "import pandas as pd\n",
        "\n",
        "data = {\n",
        "    'Date': ['2024-12-23', '2024-12-24', '2023-01-02', '2023-01-02'],\n",
        "    'Category': ['A', 'B', 'A', 'B'],\n",
        "    'Sales': [100, 200, 150, 250]\n",
        "}\n",
        "df = pd.DataFrame(data)\n",
        "\n",
        "pivot_df = pd.pivot_table(df, values='Sales', index='Date', columns='Category', aggfunc='sum')\n",
        "print(pivot_df)\n"
      ],
      "metadata": {
        "colab": {
          "base_uri": "https://localhost:8080/"
        },
        "id": "8Vm4vfoeVDsT",
        "outputId": "214bf102-9805-4bb7-ab78-84245cbd5800"
      },
      "execution_count": 12,
      "outputs": [
        {
          "output_type": "stream",
          "name": "stdout",
          "text": [
            "Category        A      B\n",
            "Date                    \n",
            "2023-01-02  150.0  250.0\n",
            "2024-12-23  100.0    NaN\n",
            "2024-12-24    NaN  200.0\n"
          ]
        }
      ]
    },
    {
      "cell_type": "code",
      "source": [
        "# Q21 Why is NumPy’s array slicing faster than Python’s list slicing ?\n",
        "\n",
        "# solution :-\n",
        "'''\n",
        "1. contiguous memory allocation :-\n",
        "    NumPy arrays are stored in contiguous blocks of memory, allowing for efficient access and slicing,\n",
        "    whereas Python lists are arrays of pointers to objects, which can slow down slicing operations.\n",
        "\n",
        "2. vectorized operations :-\n",
        "    Python lists, require more overhead to handle slicing ,\n",
        "    on the other hand NumPy operations are vectorized, meaning they are optimized at a lower level for faster execution.\n",
        "\n",
        "3. Broadcasting :- NUMPY can broadcast smaller arrays to larger ones in a way that is memory-efficient and very fast.\n",
        "\n",
        "4. optimized implementation :- numpy sclicing and other operations are implemented in c which makes it faster/\n",
        "\n",
        "'''"
      ],
      "metadata": {
        "id": "bNTxaxTMVHbq"
      },
      "execution_count": null,
      "outputs": []
    },
    {
      "cell_type": "code",
      "source": [
        "# Q22 What are some common use cases for Seaborn?\n",
        "\n",
        "# solution :-\n",
        "'''\n",
        "1. visualizing distributions :- seaborn provides several tools to visualize the distribution of data, such as histograms, kernel density plots, and box plots.\n",
        "\n",
        "2. correlation analysis :- seaborn is commonly used to visualize the relationships between variables, particularly through heatmaps of correlation matrices.\n",
        "\n",
        "3. categorical data :- seaborn makes it simple to visualize and compare categories within data using plots like bar plots, violin plots, and count plots.\n",
        "\n",
        "4. pairwise relationships :- pairplot in Seaborn is used to visualize pairwise relationships in a dataset,helping in exploring the interatcions between the multiple continuos variablesin a dataset.\n",
        "\n",
        "'''\n",
        "\n"
      ],
      "metadata": {
        "id": "AtYsokWwVKe7"
      },
      "execution_count": null,
      "outputs": []
    },
    {
      "cell_type": "markdown",
      "source": [
        "# practicle questions"
      ],
      "metadata": {
        "id": "jI1IVJIQXCt-"
      }
    },
    {
      "cell_type": "code",
      "source": [
        "# Q1  How do you create a 2D NumPy array and calculate the sum of each row ?\n",
        "\n",
        "#solution\n",
        "\n",
        "import numpy as np\n",
        "array_2d = np.array([[1, 2, 3], [4, 5, 6], [7, 8, 9]])\n",
        "rowsums = np.sum(array_2d, axis=1)\n",
        "\n",
        "print(\"2d array:\")\n",
        "print(array_2d)\n",
        "print(\"sum of each row:\", rowsums)\n"
      ],
      "metadata": {
        "colab": {
          "base_uri": "https://localhost:8080/"
        },
        "id": "W9RdpehIXEJG",
        "outputId": "321bf44e-d54d-4627-ccb2-d306870aa273"
      },
      "execution_count": 13,
      "outputs": [
        {
          "output_type": "stream",
          "name": "stdout",
          "text": [
            "2d array:\n",
            "[[1 2 3]\n",
            " [4 5 6]\n",
            " [7 8 9]]\n",
            "sum of each row: [ 6 15 24]\n"
          ]
        }
      ]
    },
    {
      "cell_type": "code",
      "source": [
        "# Q2 Write a Pandas script to find the mean of a specific column in a DataFrame ?\n",
        "\n",
        "# solution\n",
        "\n",
        "import pandas as pd\n",
        "data = {'name': ['rahul', 'lokendra', 'ashish', 'himashu'],\n",
        "        'age': [22, 21, 23, 20],\n",
        "        'salary': [50000, 60000, 70000, 80000]}\n",
        "\n",
        "df = pd.DataFrame(data)\n",
        "mean_age = df['age'].mean()\n",
        "\n",
        "print(\"mean of the age column:\", mean_age)\n",
        "\n"
      ],
      "metadata": {
        "colab": {
          "base_uri": "https://localhost:8080/"
        },
        "id": "hmrzOLoqXKf-",
        "outputId": "2f1f8f3d-8605-4543-c9b6-869bdc01f985"
      },
      "execution_count": 14,
      "outputs": [
        {
          "output_type": "stream",
          "name": "stdout",
          "text": [
            "mean of the age column: 21.5\n"
          ]
        }
      ]
    },
    {
      "cell_type": "code",
      "source": [
        "# Q3 Create a scatter plot using Matplotlib?\n",
        "\n",
        "# solution\n",
        "import matplotlib.pyplot as plt\n",
        "x = [1, 2, 3, 4, 5]\n",
        "y = [5, 4, 3, 2, 1]\n",
        "\n",
        "plt.scatter(x, y) # creating a scatter\n",
        "\n",
        "plt.xlabel('X axis')\n",
        "plt.ylabel('Y axis')\n",
        "plt.title('share price for Ashish')\n",
        "\n",
        "plt.show() # to show the plot\n"
      ],
      "metadata": {
        "colab": {
          "base_uri": "https://localhost:8080/",
          "height": 472
        },
        "id": "cg-9br0EXNCm",
        "outputId": "16e0cdae-0c95-488b-bd6a-65c910440c97"
      },
      "execution_count": 16,
      "outputs": [
        {
          "output_type": "display_data",
          "data": {
            "text/plain": [
              "<Figure size 640x480 with 1 Axes>"
            ],
            "image/png": "[encoded data removed]"
          },
          "metadata": {}
        }
      ]
    },
    {
      "cell_type": "code",
      "source": [
        "# Q4 How do you calculate the correlation matrix using Seaborn and visualize it with a heatmap?\n",
        "\n",
        "# solution :-\n",
        "\n",
        "import seaborn as sns\n",
        "import matplotlib.pyplot as plt\n",
        "import pandas as pd\n",
        "\n",
        "# data is a dataframe\n",
        "data = {'a': [1, 12, 33, 4, 5],\n",
        "        'b': [55, 24, 3, 32, 21],\n",
        "        'c': [32, 3, 4, 58, 36],\n",
        "        'd': [6, 5, 4, 63, 52]}\n",
        "\n",
        "df = pd.DataFrame(data)\n",
        "corelation_matrix = df.corr() # corelation matrix\n",
        "sns.heatmap(corelation_matrix, annot=True, cmap='coolwarm', fmt='.4f') # heatmap from the corelation matrix\n",
        "\n",
        "plt.title('Corelation matrix heatmap')\n",
        "plt.show()\n"
      ],
      "metadata": {
        "colab": {
          "base_uri": "https://localhost:8080/",
          "height": 452
        },
        "id": "Ka7s4JvkXP34",
        "outputId": "dc9cd4b3-627a-4005-f409-a98f1ccc4c76"
      },
      "execution_count": 17,
      "outputs": [
        {
          "output_type": "display_data",
          "data": {
            "text/plain": [
              "<Figure size 640x480 with 2 Axes>"
            ],
            "image/png": "[encoded data removed]"
          },
          "metadata": {}
        }
      ]
    },
    {
      "cell_type": "code",
      "source": [
        "# Q5 Generate a bar plot using Plotly?\n",
        "\n",
        "# solution :-\n",
        "\n",
        "import plotly.express as px\n",
        "\n",
        "data = {\n",
        "    'food': ['rice', 'mango', 'chapati', 'wheat', 'oil'],\n",
        "    'prices': [40, 20, 15, 30, 25]\n",
        "}\n",
        "\n",
        "import pandas as pd\n",
        "df = pd.DataFrame(data)\n",
        "fig = px.bar(df, x='food', y='prices', title='Bar Plot food prices')\n",
        "fig.show()\n"
      ],
      "metadata": {
        "colab": {
          "base_uri": "https://localhost:8080/",
          "height": 542
        },
        "id": "ywrDy_9eXSjF",
        "outputId": "934cceb8-110a-4700-865f-75c20f0cb1ed"
      },
      "execution_count": 18,
      "outputs": [
        {
          "output_type": "display_data",
          "data": {
            "text/html": [
              "<html>\n",
              "<head><meta charset=\"utf-8\" /></head>\n",
              "<body>\n",
              "    <div>            <script src=\"https://cdnjs.cloudflare.com/ajax/libs/mathjax/2.7.5/MathJax.js?config=TeX-AMS-MML_SVG\"></script><script type=\"text/javascript\">if (window.MathJax && window.MathJax.Hub && window.MathJax.Hub.Config) {window.MathJax.Hub.Config({SVG: {font: \"STIX-Web\"}});}</script>                <script type=\"text/javascript\">window.PlotlyConfig = {MathJaxConfig: 'local'};</script>\n",
              "        <script charset=\"utf-8\" src=\"https://cdn.plot.ly/plotly-2.35.2.min.js\"></script>                <div id=\"54a8e396-86db-4fd6-b543-4a311ada10e4\" class=\"plotly-graph-div\" style=\"height:525px; width:100%;\"></div>            <script type=\"text/javascript\">                                    window.PLOTLYENV=window.PLOTLYENV || {};                                    if (document.getElementById(\"54a8e396-86db-4fd6-b543-4a311ada10e4\")) {                    Plotly.newPlot(                        \"54a8e396-86db-4fd6-b543-4a311ada10e4\",                        [{\"alignmentgroup\":\"True\",\"hovertemplate\":\"food=%{x}\\u003cbr\\u003eprices=%{y}\\u003cextra\\u003e\\u003c\\u002fextra\\u003e\",\"legendgroup\":\"\",\"marker\":{\"color\":\"#636efa\",\"pattern\":{\"shape\":\"\"}},\"name\":\"\",\"offsetgroup\":\"\",\"orientation\":\"v\",\"showlegend\":false,\"textposition\":\"auto\",\"x\":[\"rice\",\"mango\",\"chapati\",\"wheat\",\"oil\"],\"xaxis\":\"x\",\"y\":[40,20,15,30,25],\"yaxis\":\"y\",\"type\":\"bar\"}],                        {\"template\":{\"data\":{\"histogram2dcontour\":[{\"type\":\"histogram2dcontour\",\"colorbar\":{\"outlinewidth\":0,\"ticks\":\"\"},\"colorscale\":[[0.0,\"#0d0887\"],[0.1111111111111111,\"#46039f\"],[0.2222222222222222,\"#7201a8\"],[0.3333333333333333,\"#9c179e\"],[0.4444444444444444,\"#bd3786\"],[0.5555555555555556,\"#d8576b\"],[0.6666666666666666,\"#ed7953\"],[0.7777777777777778,\"#fb9f3a\"],[0.8888888888888888,\"#fdca26\"],[1.0,\"#f0f921\"]]}],\"choropleth\":[{\"type\":\"choropleth\",\"colorbar\":{\"outlinewidth\":0,\"ticks\":\"\"}}],\"histogram2d\":[{\"type\":\"histogram2d\",\"colorbar\":{\"outlinewidth\":0,\"ticks\":\"\"},\"colorscale\":[[0.0,\"#0d0887\"],[0.1111111111111111,\"#46039f\"],[0.2222222222222222,\"#7201a8\"],[0.3333333333333333,\"#9c179e\"],[0.4444444444444444,\"#bd3786\"],[0.5555555555555556,\"#d8576b\"],[0.6666666666666666,\"#ed7953\"],[0.7777777777777778,\"#fb9f3a\"],[0.8888888888888888,\"#fdca26\"],[1.0,\"#f0f921\"]]}],\"heatmap\":[{\"type\":\"heatmap\",\"colorbar\":{\"outlinewidth\":0,\"ticks\":\"\"},\"colorscale\":[[0.0,\"#0d0887\"],[0.1111111111111111,\"#46039f\"],[0.2222222222222222,\"#7201a8\"],[0.3333333333333333,\"#9c179e\"],[0.4444444444444444,\"#bd3786\"],[0.5555555555555556,\"#d8576b\"],[0.6666666666666666,\"#ed7953\"],[0.7777777777777778,\"#fb9f3a\"],[0.8888888888888888,\"#fdca26\"],[1.0,\"#f0f921\"]]}],\"heatmapgl\":[{\"type\":\"heatmapgl\",\"colorbar\":{\"outlinewidth\":0,\"ticks\":\"\"},\"colorscale\":[[0.0,\"#0d0887\"],[0.1111111111111111,\"#46039f\"],[0.2222222222222222,\"#7201a8\"],[0.3333333333333333,\"#9c179e\"],[0.4444444444444444,\"#bd3786\"],[0.5555555555555556,\"#d8576b\"],[0.6666666666666666,\"#ed7953\"],[0.7777777777777778,\"#fb9f3a\"],[0.8888888888888888,\"#fdca26\"],[1.0,\"#f0f921\"]]}],\"contourcarpet\":[{\"type\":\"contourcarpet\",\"colorbar\":{\"outlinewidth\":0,\"ticks\":\"\"}}],\"contour\":[{\"type\":\"contour\",\"colorbar\":{\"outlinewidth\":0,\"ticks\":\"\"},\"colorscale\":[[0.0,\"#0d0887\"],[0.1111111111111111,\"#46039f\"],[0.2222222222222222,\"#7201a8\"],[0.3333333333333333,\"#9c179e\"],[0.4444444444444444,\"#bd3786\"],[0.5555555555555556,\"#d8576b\"],[0.6666666666666666,\"#ed7953\"],[0.7777777777777778,\"#fb9f3a\"],[0.8888888888888888,\"#fdca26\"],[1.0,\"#f0f921\"]]}],\"surface\":[{\"type\":\"surface\",\"colorbar\":{\"outlinewidth\":0,\"ticks\":\"\"},\"colorscale\":[[0.0,\"#0d0887\"],[0.1111111111111111,\"#46039f\"],[0.2222222222222222,\"#7201a8\"],[0.3333333333333333,\"#9c179e\"],[0.4444444444444444,\"#bd3786\"],[0.5555555555555556,\"#d8576b\"],[0.6666666666666666,\"#ed7953\"],[0.7777777777777778,\"#fb9f3a\"],[0.8888888888888888,\"#fdca26\"],[1.0,\"#f0f921\"]]}],\"mesh3d\":[{\"type\":\"mesh3d\",\"colorbar\":{\"outlinewidth\":0,\"ticks\":\"\"}}],\"scatter\":[{\"fillpattern\":{\"fillmode\":\"overlay\",\"size\":10,\"solidity\":0.2},\"type\":\"scatter\"}],\"parcoords\":[{\"type\":\"parcoords\",\"line\":{\"colorbar\":{\"outlinewidth\":0,\"ticks\":\"\"}}}],\"scatterpolargl\":[{\"type\":\"scatterpolargl\",\"marker\":{\"colorbar\":{\"outlinewidth\":0,\"ticks\":\"\"}}}],\"bar\":[{\"error_x\":{\"color\":\"#2a3f5f\"},\"error_y\":{\"color\":\"#2a3f5f\"},\"marker\":{\"line\":{\"color\":\"#E5ECF6\",\"width\":0.5},\"pattern\":{\"fillmode\":\"overlay\",\"size\":10,\"solidity\":0.2}},\"type\":\"bar\"}],\"scattergeo\":[{\"type\":\"scattergeo\",\"marker\":{\"colorbar\":{\"outlinewidth\":0,\"ticks\":\"\"}}}],\"scatterpolar\":[{\"type\":\"scatterpolar\",\"marker\":{\"colorbar\":{\"outlinewidth\":0,\"ticks\":\"\"}}}],\"histogram\":[{\"marker\":{\"pattern\":{\"fillmode\":\"overlay\",\"size\":10,\"solidity\":0.2}},\"type\":\"histogram\"}],\"scattergl\":[{\"type\":\"scattergl\",\"marker\":{\"colorbar\":{\"outlinewidth\":0,\"ticks\":\"\"}}}],\"scatter3d\":[{\"type\":\"scatter3d\",\"line\":{\"colorbar\":{\"outlinewidth\":0,\"ticks\":\"\"}},\"marker\":{\"colorbar\":{\"outlinewidth\":0,\"ticks\":\"\"}}}],\"scattermapbox\":[{\"type\":\"scattermapbox\",\"marker\":{\"colorbar\":{\"outlinewidth\":0,\"ticks\":\"\"}}}],\"scatterternary\":[{\"type\":\"scatterternary\",\"marker\":{\"colorbar\":{\"outlinewidth\":0,\"ticks\":\"\"}}}],\"scattercarpet\":[{\"type\":\"scattercarpet\",\"marker\":{\"colorbar\":{\"outlinewidth\":0,\"ticks\":\"\"}}}],\"carpet\":[{\"aaxis\":{\"endlinecolor\":\"#2a3f5f\",\"gridcolor\":\"white\",\"linecolor\":\"white\",\"minorgridcolor\":\"white\",\"startlinecolor\":\"#2a3f5f\"},\"baxis\":{\"endlinecolor\":\"#2a3f5f\",\"gridcolor\":\"white\",\"linecolor\":\"white\",\"minorgridcolor\":\"white\",\"startlinecolor\":\"#2a3f5f\"},\"type\":\"carpet\"}],\"table\":[{\"cells\":{\"fill\":{\"color\":\"#EBF0F8\"},\"line\":{\"color\":\"white\"}},\"header\":{\"fill\":{\"color\":\"#C8D4E3\"},\"line\":{\"color\":\"white\"}},\"type\":\"table\"}],\"barpolar\":[{\"marker\":{\"line\":{\"color\":\"#E5ECF6\",\"width\":0.5},\"pattern\":{\"fillmode\":\"overlay\",\"size\":10,\"solidity\":0.2}},\"type\":\"barpolar\"}],\"pie\":[{\"automargin\":true,\"type\":\"pie\"}]},\"layout\":{\"autotypenumbers\":\"strict\",\"colorway\":[\"#636efa\",\"#EF553B\",\"#00cc96\",\"#ab63fa\",\"#FFA15A\",\"#19d3f3\",\"#FF6692\",\"#B6E880\",\"#FF97FF\",\"#FECB52\"],\"font\":{\"color\":\"#2a3f5f\"},\"hovermode\":\"closest\",\"hoverlabel\":{\"align\":\"left\"},\"paper_bgcolor\":\"white\",\"plot_bgcolor\":\"#E5ECF6\",\"polar\":{\"bgcolor\":\"#E5ECF6\",\"angularaxis\":{\"gridcolor\":\"white\",\"linecolor\":\"white\",\"ticks\":\"\"},\"radialaxis\":{\"gridcolor\":\"white\",\"linecolor\":\"white\",\"ticks\":\"\"}},\"ternary\":{\"bgcolor\":\"#E5ECF6\",\"aaxis\":{\"gridcolor\":\"white\",\"linecolor\":\"white\",\"ticks\":\"\"},\"baxis\":{\"gridcolor\":\"white\",\"linecolor\":\"white\",\"ticks\":\"\"},\"caxis\":{\"gridcolor\":\"white\",\"linecolor\":\"white\",\"ticks\":\"\"}},\"coloraxis\":{\"colorbar\":{\"outlinewidth\":0,\"ticks\":\"\"}},\"colorscale\":{\"sequential\":[[0.0,\"#0d0887\"],[0.1111111111111111,\"#46039f\"],[0.2222222222222222,\"#7201a8\"],[0.3333333333333333,\"#9c179e\"],[0.4444444444444444,\"#bd3786\"],[0.5555555555555556,\"#d8576b\"],[0.6666666666666666,\"#ed7953\"],[0.7777777777777778,\"#fb9f3a\"],[0.8888888888888888,\"#fdca26\"],[1.0,\"#f0f921\"]],\"sequentialminus\":[[0.0,\"#0d0887\"],[0.1111111111111111,\"#46039f\"],[0.2222222222222222,\"#7201a8\"],[0.3333333333333333,\"#9c179e\"],[0.4444444444444444,\"#bd3786\"],[0.5555555555555556,\"#d8576b\"],[0.6666666666666666,\"#ed7953\"],[0.7777777777777778,\"#fb9f3a\"],[0.8888888888888888,\"#fdca26\"],[1.0,\"#f0f921\"]],\"diverging\":[[0,\"#8e0152\"],[0.1,\"#c51b7d\"],[0.2,\"#de77ae\"],[0.3,\"#f1b6da\"],[0.4,\"#fde0ef\"],[0.5,\"#f7f7f7\"],[0.6,\"#e6f5d0\"],[0.7,\"#b8e186\"],[0.8,\"#7fbc41\"],[0.9,\"#4d9221\"],[1,\"#276419\"]]},\"xaxis\":{\"gridcolor\":\"white\",\"linecolor\":\"white\",\"ticks\":\"\",\"title\":{\"standoff\":15},\"zerolinecolor\":\"white\",\"automargin\":true,\"zerolinewidth\":2},\"yaxis\":{\"gridcolor\":\"white\",\"linecolor\":\"white\",\"ticks\":\"\",\"title\":{\"standoff\":15},\"zerolinecolor\":\"white\",\"automargin\":true,\"zerolinewidth\":2},\"scene\":{\"xaxis\":{\"backgroundcolor\":\"#E5ECF6\",\"gridcolor\":\"white\",\"linecolor\":\"white\",\"showbackground\":true,\"ticks\":\"\",\"zerolinecolor\":\"white\",\"gridwidth\":2},\"yaxis\":{\"backgroundcolor\":\"#E5ECF6\",\"gridcolor\":\"white\",\"linecolor\":\"white\",\"showbackground\":true,\"ticks\":\"\",\"zerolinecolor\":\"white\",\"gridwidth\":2},\"zaxis\":{\"backgroundcolor\":\"#E5ECF6\",\"gridcolor\":\"white\",\"linecolor\":\"white\",\"showbackground\":true,\"ticks\":\"\",\"zerolinecolor\":\"white\",\"gridwidth\":2}},\"shapedefaults\":{\"line\":{\"color\":\"#2a3f5f\"}},\"annotationdefaults\":{\"arrowcolor\":\"#2a3f5f\",\"arrowhead\":0,\"arrowwidth\":1},\"geo\":{\"bgcolor\":\"white\",\"landcolor\":\"#E5ECF6\",\"subunitcolor\":\"white\",\"showland\":true,\"showlakes\":true,\"lakecolor\":\"white\"},\"title\":{\"x\":0.05},\"mapbox\":{\"style\":\"light\"}}},\"xaxis\":{\"anchor\":\"y\",\"domain\":[0.0,1.0],\"title\":{\"text\":\"food\"}},\"yaxis\":{\"anchor\":\"x\",\"domain\":[0.0,1.0],\"title\":{\"text\":\"prices\"}},\"legend\":{\"tracegroupgap\":0},\"title\":{\"text\":\"Bar Plot food prices\"},\"barmode\":\"relative\"},                        {\"responsive\": true}                    ).then(function(){\n",
              "                            \n",
              "var gd = document.getElementById('54a8e396-86db-4fd6-b543-4a311ada10e4');\n",
              "var x = new MutationObserver(function (mutations, observer) {{\n",
              "        var display = window.getComputedStyle(gd).display;\n",
              "        if (!display || display === 'none') {{\n",
              "            console.log([gd, 'removed!']);\n",
              "            Plotly.purge(gd);\n",
              "            observer.disconnect();\n",
              "        }}\n",
              "}});\n",
              "\n",
              "// Listen for the removal of the full notebook cells\n",
              "var notebookContainer = gd.closest('#notebook-container');\n",
              "if (notebookContainer) {{\n",
              "    x.observe(notebookContainer, {childList: true});\n",
              "}}\n",
              "\n",
              "// Listen for the clearing of the current output cell\n",
              "var outputEl = gd.closest('.output');\n",
              "if (outputEl) {{\n",
              "    x.observe(outputEl, {childList: true});\n",
              "}}\n",
              "\n",
              "                        })                };                            </script>        </div>\n",
              "</body>\n",
              "</html>"
            ]
          },
          "metadata": {}
        }
      ]
    },
    {
      "cell_type": "code",
      "source": [
        "# Q6 Create a DataFrame and add a new column based on an existing column ?\n",
        "\n",
        "# solution :-\n",
        "\n",
        "import pandas as pd\n",
        "\n",
        "# Create a sample DataFrame\n",
        "data = {'name': ['ravi', 'lokendra', 'ashish', 'himashu'],\n",
        "        'age': [22, 21, 23, 20],\n",
        "       }\n",
        "\n",
        "df = pd.DataFrame(data)\n",
        "\n",
        "df['age in 5 years'] = df['age'] + 5\n",
        "print(df)\n"
      ],
      "metadata": {
        "colab": {
          "base_uri": "https://localhost:8080/"
        },
        "id": "kA7qDNA_XU1X",
        "outputId": "5edf3e69-325a-4dc6-8eb6-9faa65d50457"
      },
      "execution_count": 20,
      "outputs": [
        {
          "output_type": "stream",
          "name": "stdout",
          "text": [
            "       name  age  age in 5 years\n",
            "0      ravi   22              27\n",
            "1  lokendra   21              26\n",
            "2    ashish   23              28\n",
            "3   himashu   20              25\n"
          ]
        }
      ]
    },
    {
      "cell_type": "code",
      "source": [
        "# Q7 Write a program to perform element-wise multiplication of two NumPy arrays ?\n",
        "\n",
        "# solution :-\n",
        "\n",
        "import numpy as np\n",
        "arr1 = np.array([1, 2, 3, 4])\n",
        "arr2 = np.array([5, 6, 7, 8])\n",
        "res = arr1 * arr2\n",
        "print(\"result of element wise multiplication :\", res)\n"
      ],
      "metadata": {
        "colab": {
          "base_uri": "https://localhost:8080/"
        },
        "id": "1OgjTJYKXXmF",
        "outputId": "9fec6be1-2b17-4248-f44a-2a0af16cf15a"
      },
      "execution_count": 21,
      "outputs": [
        {
          "output_type": "stream",
          "name": "stdout",
          "text": [
            "result of element wise multiplication : [ 5 12 21 32]\n"
          ]
        }
      ]
    },
    {
      "cell_type": "code",
      "source": [
        "# Q8 Create a line plot with multiple lines using Matplotlib ?\n",
        "\n",
        "# solution :-\n",
        "\n",
        "import matplotlib.pyplot as plt\n",
        "\n",
        "x = [1, 2, 3, 4, 5]\n",
        "y1 = [1, 4, 9, 16, 25]\n",
        "y2 = [29, 26, 21, 14, 5]\n",
        "y3 = [1, 2, 3, 4, 5]\n",
        "\n",
        "plt.plot(x, y1, label='y = x^2', marker='o')\n",
        "plt.plot(x, y2, label='y = 30 - x^2', marker='x')\n",
        "plt.plot(x, y3, label='y = x', marker='d')\n",
        "\n",
        "plt.xlabel('X Axis')\n",
        "plt.ylabel('Y Axis')\n",
        "plt.title('Multiple Lines Plot')\n",
        "\n",
        "plt.legend()\n",
        "\n",
        "plt.show()\n"
      ],
      "metadata": {
        "colab": {
          "base_uri": "https://localhost:8080/",
          "height": 472
        },
        "id": "j3lzClFuXbX2",
        "outputId": "c0766f2d-bcc5-4831-b81a-f418d36efedc"
      },
      "execution_count": 22,
      "outputs": [
        {
          "output_type": "display_data",
          "data": {
            "text/plain": [
              "<Figure size 640x480 with 1 Axes>"
            ],
            "image/png": "[encoded data removed]"
          },
          "metadata": {}
        }
      ]
    },
    {
      "cell_type": "code",
      "source": [
        "# Q9 Generate a Pandas DataFrame and filter rows where a column value is greater than a threshold ?\n",
        "\n",
        "# solution :-\n",
        "\n",
        "import pandas as pd\n",
        "data = {'Name': ['ravi', 'vikram', 'vijay', 'krishana', 'bikram'],\n",
        "        'Age': [25, 30, 35, 40, 22]}\n",
        "\n",
        "df = pd.DataFrame(data)\n",
        "threshold = 30\n",
        "filtered_df = df[df['Age'] > threshold]\n",
        "print(filtered_df)\n"
      ],
      "metadata": {
        "colab": {
          "base_uri": "https://localhost:8080/"
        },
        "id": "o7gSkb6FXdS9",
        "outputId": "16ad6667-18dc-4185-b6a9-6b71a259e609"
      },
      "execution_count": 24,
      "outputs": [
        {
          "output_type": "stream",
          "name": "stdout",
          "text": [
            "       Name  Age\n",
            "2     vijay   35\n",
            "3  krishana   40\n"
          ]
        }
      ]
    },
    {
      "cell_type": "code",
      "source": [
        "# Q10 Create a histogram using Seaborn to visualize a distribution ?\n",
        "\n",
        "# solution :-\n",
        "\n",
        "import seaborn as sns\n",
        "import matplotlib.pyplot as plt\n",
        "data = [12, 15, 14, 10, 13, 19, 22, 17, 18, 16, 20, 25, 30, 28, 29]\n",
        "sns.histplot(data, bins=6, color='yellow', edgecolor='black')\n",
        "plt.title('using seaborn')\n",
        "plt.xlabel('intensity')\n",
        "plt.ylabel('freq')\n",
        "plt.show()\n"
      ],
      "metadata": {
        "colab": {
          "base_uri": "https://localhost:8080/",
          "height": 472
        },
        "id": "waLGsU16XfyR",
        "outputId": "8c639b22-801a-439c-87c7-bded788cc50a"
      },
      "execution_count": 29,
      "outputs": [
        {
          "output_type": "display_data",
          "data": {
            "text/plain": [
              "<Figure size 640x480 with 1 Axes>"
            ],
            "image/png": "[encoded data removed]"
          },
          "metadata": {}
        }
      ]
    },
    {
      "cell_type": "code",
      "source": [
        "# Q11 Perform matrix multiplication using NumPy ?\n",
        "\n",
        "# solution :-\n",
        "\n",
        "import numpy as np\n",
        "matrix1 = np.array([[1, 2], [3, 4]])\n",
        "matrix2 = np.array([[5, 6], [7, 8]])\n",
        "res = np.dot(matrix1, matrix2)\n",
        "print(\"mattrix multiplication using the np.dot\")\n",
        "print(res)\n"
      ],
      "metadata": {
        "colab": {
          "base_uri": "https://localhost:8080/"
        },
        "id": "sRHn20KqXh-t",
        "outputId": "f00687eb-6a0c-41e3-83a0-392c81ee4c9d"
      },
      "execution_count": 30,
      "outputs": [
        {
          "output_type": "stream",
          "name": "stdout",
          "text": [
            "mattrix multiplication using the np.dot\n",
            "[[19 22]\n",
            " [43 50]]\n"
          ]
        }
      ]
    },
    {
      "cell_type": "code",
      "source": [
        "# Q12 Use Pandas to load a CSV file and display its first 5 rows ?\n",
        "\n",
        "# solution :-\n",
        "\n",
        "import pandas as pd\n",
        "df = pd.read_csv('people_scores.csv')\n",
        "print(df.head())\n"
      ],
      "metadata": {
        "colab": {
          "base_uri": "https://localhost:8080/"
        },
        "id": "E1Rlf0kaXkP9",
        "outputId": "55880eb0-4844-4934-cf27-4492637e2825"
      },
      "execution_count": 36,
      "outputs": [
        {
          "output_type": "stream",
          "name": "stdout",
          "text": [
            "      Name  Age          City  Score\n",
            "0   Ashish   28      New York     85\n",
            "1    Bijay   24   Los Angeles     90\n",
            "2   Chetan   22       Chicago     88\n",
            "3   Denial   30       Houston     92\n",
            "4  krishan   26  Philadelphia     87\n"
          ]
        }
      ]
    },
    {
      "cell_type": "code",
      "source": [
        "# Q13 Create a 3D scatter plot using Plotly ?\n",
        "\n",
        "# solution :-\n",
        "\n",
        "import plotly.express as px\n",
        "data = {\n",
        "    'X': [1, 2, 3, 4, 5],\n",
        "    'Y': [5, 6, 7, 8, 9],\n",
        "    'Z': [9, 8, 7, 6, 5],\n",
        "    'Color': [1, 2, 3, 4, 5]\n",
        "}\n",
        "\n",
        "import pandas as pd\n",
        "df = pd.DataFrame(data)\n",
        "fig = px.scatter_3d(df, x='X', y='Y', z='Z', color='Color', title='3D Scatter Plot')\n",
        "fig.show()\n"
      ],
      "metadata": {
        "colab": {
          "base_uri": "https://localhost:8080/",
          "height": 542
        },
        "id": "UX8uVJ7iXmUX",
        "outputId": "ba352e8b-b084-4110-fc91-e7382a9994cf"
      },
      "execution_count": 32,
      "outputs": [
        {
          "output_type": "display_data",
          "data": {
            "text/html": [
              "<html>\n",
              "<head><meta charset=\"utf-8\" /></head>\n",
              "<body>\n",
              "    <div>            <script src=\"https://cdnjs.cloudflare.com/ajax/libs/mathjax/2.7.5/MathJax.js?config=TeX-AMS-MML_SVG\"></script><script type=\"text/javascript\">if (window.MathJax && window.MathJax.Hub && window.MathJax.Hub.Config) {window.MathJax.Hub.Config({SVG: {font: \"STIX-Web\"}});}</script>                <script type=\"text/javascript\">window.PlotlyConfig = {MathJaxConfig: 'local'};</script>\n",
              "        <script charset=\"utf-8\" src=\"https://cdn.plot.ly/plotly-2.35.2.min.js\"></script>                <div id=\"76f026cb-b511-4aff-ab6a-af69869c753b\" class=\"plotly-graph-div\" style=\"height:525px; width:100%;\"></div>            <script type=\"text/javascript\">                                    window.PLOTLYENV=window.PLOTLYENV || {};                                    if (document.getElementById(\"76f026cb-b511-4aff-ab6a-af69869c753b\")) {                    Plotly.newPlot(                        \"76f026cb-b511-4aff-ab6a-af69869c753b\",                        [{\"hovertemplate\":\"X=%{x}\\u003cbr\\u003eY=%{y}\\u003cbr\\u003eZ=%{z}\\u003cbr\\u003eColor=%{marker.color}\\u003cextra\\u003e\\u003c\\u002fextra\\u003e\",\"legendgroup\":\"\",\"marker\":{\"color\":[1,2,3,4,5],\"coloraxis\":\"coloraxis\",\"symbol\":\"circle\"},\"mode\":\"markers\",\"name\":\"\",\"scene\":\"scene\",\"showlegend\":false,\"x\":[1,2,3,4,5],\"y\":[5,6,7,8,9],\"z\":[9,8,7,6,5],\"type\":\"scatter3d\"}],                        {\"template\":{\"data\":{\"histogram2dcontour\":[{\"type\":\"histogram2dcontour\",\"colorbar\":{\"outlinewidth\":0,\"ticks\":\"\"},\"colorscale\":[[0.0,\"#0d0887\"],[0.1111111111111111,\"#46039f\"],[0.2222222222222222,\"#7201a8\"],[0.3333333333333333,\"#9c179e\"],[0.4444444444444444,\"#bd3786\"],[0.5555555555555556,\"#d8576b\"],[0.6666666666666666,\"#ed7953\"],[0.7777777777777778,\"#fb9f3a\"],[0.8888888888888888,\"#fdca26\"],[1.0,\"#f0f921\"]]}],\"choropleth\":[{\"type\":\"choropleth\",\"colorbar\":{\"outlinewidth\":0,\"ticks\":\"\"}}],\"histogram2d\":[{\"type\":\"histogram2d\",\"colorbar\":{\"outlinewidth\":0,\"ticks\":\"\"},\"colorscale\":[[0.0,\"#0d0887\"],[0.1111111111111111,\"#46039f\"],[0.2222222222222222,\"#7201a8\"],[0.3333333333333333,\"#9c179e\"],[0.4444444444444444,\"#bd3786\"],[0.5555555555555556,\"#d8576b\"],[0.6666666666666666,\"#ed7953\"],[0.7777777777777778,\"#fb9f3a\"],[0.8888888888888888,\"#fdca26\"],[1.0,\"#f0f921\"]]}],\"heatmap\":[{\"type\":\"heatmap\",\"colorbar\":{\"outlinewidth\":0,\"ticks\":\"\"},\"colorscale\":[[0.0,\"#0d0887\"],[0.1111111111111111,\"#46039f\"],[0.2222222222222222,\"#7201a8\"],[0.3333333333333333,\"#9c179e\"],[0.4444444444444444,\"#bd3786\"],[0.5555555555555556,\"#d8576b\"],[0.6666666666666666,\"#ed7953\"],[0.7777777777777778,\"#fb9f3a\"],[0.8888888888888888,\"#fdca26\"],[1.0,\"#f0f921\"]]}],\"heatmapgl\":[{\"type\":\"heatmapgl\",\"colorbar\":{\"outlinewidth\":0,\"ticks\":\"\"},\"colorscale\":[[0.0,\"#0d0887\"],[0.1111111111111111,\"#46039f\"],[0.2222222222222222,\"#7201a8\"],[0.3333333333333333,\"#9c179e\"],[0.4444444444444444,\"#bd3786\"],[0.5555555555555556,\"#d8576b\"],[0.6666666666666666,\"#ed7953\"],[0.7777777777777778,\"#fb9f3a\"],[0.8888888888888888,\"#fdca26\"],[1.0,\"#f0f921\"]]}],\"contourcarpet\":[{\"type\":\"contourcarpet\",\"colorbar\":{\"outlinewidth\":0,\"ticks\":\"\"}}],\"contour\":[{\"type\":\"contour\",\"colorbar\":{\"outlinewidth\":0,\"ticks\":\"\"},\"colorscale\":[[0.0,\"#0d0887\"],[0.1111111111111111,\"#46039f\"],[0.2222222222222222,\"#7201a8\"],[0.3333333333333333,\"#9c179e\"],[0.4444444444444444,\"#bd3786\"],[0.5555555555555556,\"#d8576b\"],[0.6666666666666666,\"#ed7953\"],[0.7777777777777778,\"#fb9f3a\"],[0.8888888888888888,\"#fdca26\"],[1.0,\"#f0f921\"]]}],\"surface\":[{\"type\":\"surface\",\"colorbar\":{\"outlinewidth\":0,\"ticks\":\"\"},\"colorscale\":[[0.0,\"#0d0887\"],[0.1111111111111111,\"#46039f\"],[0.2222222222222222,\"#7201a8\"],[0.3333333333333333,\"#9c179e\"],[0.4444444444444444,\"#bd3786\"],[0.5555555555555556,\"#d8576b\"],[0.6666666666666666,\"#ed7953\"],[0.7777777777777778,\"#fb9f3a\"],[0.8888888888888888,\"#fdca26\"],[1.0,\"#f0f921\"]]}],\"mesh3d\":[{\"type\":\"mesh3d\",\"colorbar\":{\"outlinewidth\":0,\"ticks\":\"\"}}],\"scatter\":[{\"fillpattern\":{\"fillmode\":\"overlay\",\"size\":10,\"solidity\":0.2},\"type\":\"scatter\"}],\"parcoords\":[{\"type\":\"parcoords\",\"line\":{\"colorbar\":{\"outlinewidth\":0,\"ticks\":\"\"}}}],\"scatterpolargl\":[{\"type\":\"scatterpolargl\",\"marker\":{\"colorbar\":{\"outlinewidth\":0,\"ticks\":\"\"}}}],\"bar\":[{\"error_x\":{\"color\":\"#2a3f5f\"},\"error_y\":{\"color\":\"#2a3f5f\"},\"marker\":{\"line\":{\"color\":\"#E5ECF6\",\"width\":0.5},\"pattern\":{\"fillmode\":\"overlay\",\"size\":10,\"solidity\":0.2}},\"type\":\"bar\"}],\"scattergeo\":[{\"type\":\"scattergeo\",\"marker\":{\"colorbar\":{\"outlinewidth\":0,\"ticks\":\"\"}}}],\"scatterpolar\":[{\"type\":\"scatterpolar\",\"marker\":{\"colorbar\":{\"outlinewidth\":0,\"ticks\":\"\"}}}],\"histogram\":[{\"marker\":{\"pattern\":{\"fillmode\":\"overlay\",\"size\":10,\"solidity\":0.2}},\"type\":\"histogram\"}],\"scattergl\":[{\"type\":\"scattergl\",\"marker\":{\"colorbar\":{\"outlinewidth\":0,\"ticks\":\"\"}}}],\"scatter3d\":[{\"type\":\"scatter3d\",\"line\":{\"colorbar\":{\"outlinewidth\":0,\"ticks\":\"\"}},\"marker\":{\"colorbar\":{\"outlinewidth\":0,\"ticks\":\"\"}}}],\"scattermapbox\":[{\"type\":\"scattermapbox\",\"marker\":{\"colorbar\":{\"outlinewidth\":0,\"ticks\":\"\"}}}],\"scatterternary\":[{\"type\":\"scatterternary\",\"marker\":{\"colorbar\":{\"outlinewidth\":0,\"ticks\":\"\"}}}],\"scattercarpet\":[{\"type\":\"scattercarpet\",\"marker\":{\"colorbar\":{\"outlinewidth\":0,\"ticks\":\"\"}}}],\"carpet\":[{\"aaxis\":{\"endlinecolor\":\"#2a3f5f\",\"gridcolor\":\"white\",\"linecolor\":\"white\",\"minorgridcolor\":\"white\",\"startlinecolor\":\"#2a3f5f\"},\"baxis\":{\"endlinecolor\":\"#2a3f5f\",\"gridcolor\":\"white\",\"linecolor\":\"white\",\"minorgridcolor\":\"white\",\"startlinecolor\":\"#2a3f5f\"},\"type\":\"carpet\"}],\"table\":[{\"cells\":{\"fill\":{\"color\":\"#EBF0F8\"},\"line\":{\"color\":\"white\"}},\"header\":{\"fill\":{\"color\":\"#C8D4E3\"},\"line\":{\"color\":\"white\"}},\"type\":\"table\"}],\"barpolar\":[{\"marker\":{\"line\":{\"color\":\"#E5ECF6\",\"width\":0.5},\"pattern\":{\"fillmode\":\"overlay\",\"size\":10,\"solidity\":0.2}},\"type\":\"barpolar\"}],\"pie\":[{\"automargin\":true,\"type\":\"pie\"}]},\"layout\":{\"autotypenumbers\":\"strict\",\"colorway\":[\"#636efa\",\"#EF553B\",\"#00cc96\",\"#ab63fa\",\"#FFA15A\",\"#19d3f3\",\"#FF6692\",\"#B6E880\",\"#FF97FF\",\"#FECB52\"],\"font\":{\"color\":\"#2a3f5f\"},\"hovermode\":\"closest\",\"hoverlabel\":{\"align\":\"left\"},\"paper_bgcolor\":\"white\",\"plot_bgcolor\":\"#E5ECF6\",\"polar\":{\"bgcolor\":\"#E5ECF6\",\"angularaxis\":{\"gridcolor\":\"white\",\"linecolor\":\"white\",\"ticks\":\"\"},\"radialaxis\":{\"gridcolor\":\"white\",\"linecolor\":\"white\",\"ticks\":\"\"}},\"ternary\":{\"bgcolor\":\"#E5ECF6\",\"aaxis\":{\"gridcolor\":\"white\",\"linecolor\":\"white\",\"ticks\":\"\"},\"baxis\":{\"gridcolor\":\"white\",\"linecolor\":\"white\",\"ticks\":\"\"},\"caxis\":{\"gridcolor\":\"white\",\"linecolor\":\"white\",\"ticks\":\"\"}},\"coloraxis\":{\"colorbar\":{\"outlinewidth\":0,\"ticks\":\"\"}},\"colorscale\":{\"sequential\":[[0.0,\"#0d0887\"],[0.1111111111111111,\"#46039f\"],[0.2222222222222222,\"#7201a8\"],[0.3333333333333333,\"#9c179e\"],[0.4444444444444444,\"#bd3786\"],[0.5555555555555556,\"#d8576b\"],[0.6666666666666666,\"#ed7953\"],[0.7777777777777778,\"#fb9f3a\"],[0.8888888888888888,\"#fdca26\"],[1.0,\"#f0f921\"]],\"sequentialminus\":[[0.0,\"#0d0887\"],[0.1111111111111111,\"#46039f\"],[0.2222222222222222,\"#7201a8\"],[0.3333333333333333,\"#9c179e\"],[0.4444444444444444,\"#bd3786\"],[0.5555555555555556,\"#d8576b\"],[0.6666666666666666,\"#ed7953\"],[0.7777777777777778,\"#fb9f3a\"],[0.8888888888888888,\"#fdca26\"],[1.0,\"#f0f921\"]],\"diverging\":[[0,\"#8e0152\"],[0.1,\"#c51b7d\"],[0.2,\"#de77ae\"],[0.3,\"#f1b6da\"],[0.4,\"#fde0ef\"],[0.5,\"#f7f7f7\"],[0.6,\"#e6f5d0\"],[0.7,\"#b8e186\"],[0.8,\"#7fbc41\"],[0.9,\"#4d9221\"],[1,\"#276419\"]]},\"xaxis\":{\"gridcolor\":\"white\",\"linecolor\":\"white\",\"ticks\":\"\",\"title\":{\"standoff\":15},\"zerolinecolor\":\"white\",\"automargin\":true,\"zerolinewidth\":2},\"yaxis\":{\"gridcolor\":\"white\",\"linecolor\":\"white\",\"ticks\":\"\",\"title\":{\"standoff\":15},\"zerolinecolor\":\"white\",\"automargin\":true,\"zerolinewidth\":2},\"scene\":{\"xaxis\":{\"backgroundcolor\":\"#E5ECF6\",\"gridcolor\":\"white\",\"linecolor\":\"white\",\"showbackground\":true,\"ticks\":\"\",\"zerolinecolor\":\"white\",\"gridwidth\":2},\"yaxis\":{\"backgroundcolor\":\"#E5ECF6\",\"gridcolor\":\"white\",\"linecolor\":\"white\",\"showbackground\":true,\"ticks\":\"\",\"zerolinecolor\":\"white\",\"gridwidth\":2},\"zaxis\":{\"backgroundcolor\":\"#E5ECF6\",\"gridcolor\":\"white\",\"linecolor\":\"white\",\"showbackground\":true,\"ticks\":\"\",\"zerolinecolor\":\"white\",\"gridwidth\":2}},\"shapedefaults\":{\"line\":{\"color\":\"#2a3f5f\"}},\"annotationdefaults\":{\"arrowcolor\":\"#2a3f5f\",\"arrowhead\":0,\"arrowwidth\":1},\"geo\":{\"bgcolor\":\"white\",\"landcolor\":\"#E5ECF6\",\"subunitcolor\":\"white\",\"showland\":true,\"showlakes\":true,\"lakecolor\":\"white\"},\"title\":{\"x\":0.05},\"mapbox\":{\"style\":\"light\"}}},\"scene\":{\"domain\":{\"x\":[0.0,1.0],\"y\":[0.0,1.0]},\"xaxis\":{\"title\":{\"text\":\"X\"}},\"yaxis\":{\"title\":{\"text\":\"Y\"}},\"zaxis\":{\"title\":{\"text\":\"Z\"}}},\"coloraxis\":{\"colorbar\":{\"title\":{\"text\":\"Color\"}},\"colorscale\":[[0.0,\"#0d0887\"],[0.1111111111111111,\"#46039f\"],[0.2222222222222222,\"#7201a8\"],[0.3333333333333333,\"#9c179e\"],[0.4444444444444444,\"#bd3786\"],[0.5555555555555556,\"#d8576b\"],[0.6666666666666666,\"#ed7953\"],[0.7777777777777778,\"#fb9f3a\"],[0.8888888888888888,\"#fdca26\"],[1.0,\"#f0f921\"]]},\"legend\":{\"tracegroupgap\":0},\"title\":{\"text\":\"3D Scatter Plot\"}},                        {\"responsive\": true}                    ).then(function(){\n",
              "                            \n",
              "var gd = document.getElementById('76f026cb-b511-4aff-ab6a-af69869c753b');\n",
              "var x = new MutationObserver(function (mutations, observer) {{\n",
              "        var display = window.getComputedStyle(gd).display;\n",
              "        if (!display || display === 'none') {{\n",
              "            console.log([gd, 'removed!']);\n",
              "            Plotly.purge(gd);\n",
              "            observer.disconnect();\n",
              "        }}\n",
              "}});\n",
              "\n",
              "// Listen for the removal of the full notebook cells\n",
              "var notebookContainer = gd.closest('#notebook-container');\n",
              "if (notebookContainer) {{\n",
              "    x.observe(notebookContainer, {childList: true});\n",
              "}}\n",
              "\n",
              "// Listen for the clearing of the current output cell\n",
              "var outputEl = gd.closest('.output');\n",
              "if (outputEl) {{\n",
              "    x.observe(outputEl, {childList: true});\n",
              "}}\n",
              "\n",
              "                        })                };                            </script>        </div>\n",
              "</body>\n",
              "</html>"
            ]
          },
          "metadata": {}
        }
      ]
    }
  ]
}